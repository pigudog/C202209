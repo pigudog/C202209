{
 "cells": [
  {
   "cell_type": "code",
   "execution_count": 1,
   "metadata": {},
   "outputs": [],
   "source": [
    "# 数据处理\n",
    "import pandas as pd\n",
    "import numpy as np\n",
    " \n",
    "# 绘图\n",
    "import seaborn as sns\n",
    "import matplotlib.pyplot as plt"
   ]
  },
  {
   "cell_type": "code",
   "execution_count": 19,
   "metadata": {},
   "outputs": [
    {
     "data": {
      "text/html": [
       "<div>\n",
       "<style scoped>\n",
       "    .dataframe tbody tr th:only-of-type {\n",
       "        vertical-align: middle;\n",
       "    }\n",
       "\n",
       "    .dataframe tbody tr th {\n",
       "        vertical-align: top;\n",
       "    }\n",
       "\n",
       "    .dataframe thead th {\n",
       "        text-align: right;\n",
       "    }\n",
       "</style>\n",
       "<table border=\"1\" class=\"dataframe\">\n",
       "  <thead>\n",
       "    <tr style=\"text-align: right;\">\n",
       "      <th></th>\n",
       "      <th>类型</th>\n",
       "      <th>二氧化硅(SiO2)</th>\n",
       "      <th>氧化钠(Na2O)</th>\n",
       "      <th>氧化钾(K2O)</th>\n",
       "      <th>氧化钙(CaO)</th>\n",
       "      <th>氧化镁(MgO)</th>\n",
       "      <th>氧化铝(Al2O3)</th>\n",
       "      <th>氧化铁(Fe2O3)</th>\n",
       "      <th>氧化铜(CuO)</th>\n",
       "      <th>氧化铅(PbO)</th>\n",
       "      <th>氧化钡(BaO)</th>\n",
       "      <th>五氧化二磷(P2O5)</th>\n",
       "      <th>氧化锶(SrO)</th>\n",
       "      <th>氧化锡(SnO2)</th>\n",
       "      <th>二氧化硫(SO2)</th>\n",
       "      <th>sum</th>\n",
       "    </tr>\n",
       "  </thead>\n",
       "  <tbody>\n",
       "    <tr>\n",
       "      <th>0</th>\n",
       "      <td>高钾</td>\n",
       "      <td>69.33</td>\n",
       "      <td>0.0</td>\n",
       "      <td>9.99</td>\n",
       "      <td>6.32</td>\n",
       "      <td>0.87</td>\n",
       "      <td>3.93</td>\n",
       "      <td>1.74</td>\n",
       "      <td>3.87</td>\n",
       "      <td>0.00</td>\n",
       "      <td>0.00</td>\n",
       "      <td>1.17</td>\n",
       "      <td>0.00</td>\n",
       "      <td>0.0</td>\n",
       "      <td>0.39</td>\n",
       "      <td>97.22</td>\n",
       "    </tr>\n",
       "    <tr>\n",
       "      <th>1</th>\n",
       "      <td>铅钡</td>\n",
       "      <td>36.28</td>\n",
       "      <td>0.0</td>\n",
       "      <td>1.05</td>\n",
       "      <td>2.34</td>\n",
       "      <td>1.18</td>\n",
       "      <td>5.73</td>\n",
       "      <td>1.86</td>\n",
       "      <td>0.26</td>\n",
       "      <td>47.43</td>\n",
       "      <td>0.00</td>\n",
       "      <td>3.57</td>\n",
       "      <td>0.19</td>\n",
       "      <td>0.0</td>\n",
       "      <td>0.00</td>\n",
       "      <td>99.89</td>\n",
       "    </tr>\n",
       "    <tr>\n",
       "      <th>2</th>\n",
       "      <td>高钾</td>\n",
       "      <td>87.05</td>\n",
       "      <td>0.0</td>\n",
       "      <td>5.19</td>\n",
       "      <td>2.01</td>\n",
       "      <td>0.00</td>\n",
       "      <td>4.06</td>\n",
       "      <td>0.00</td>\n",
       "      <td>0.78</td>\n",
       "      <td>0.25</td>\n",
       "      <td>0.00</td>\n",
       "      <td>0.66</td>\n",
       "      <td>0.00</td>\n",
       "      <td>0.0</td>\n",
       "      <td>0.00</td>\n",
       "      <td>100.00</td>\n",
       "    </tr>\n",
       "    <tr>\n",
       "      <th>3</th>\n",
       "      <td>高钾</td>\n",
       "      <td>61.71</td>\n",
       "      <td>0.0</td>\n",
       "      <td>12.37</td>\n",
       "      <td>5.87</td>\n",
       "      <td>1.11</td>\n",
       "      <td>5.50</td>\n",
       "      <td>2.16</td>\n",
       "      <td>5.09</td>\n",
       "      <td>1.41</td>\n",
       "      <td>2.86</td>\n",
       "      <td>0.70</td>\n",
       "      <td>0.10</td>\n",
       "      <td>0.0</td>\n",
       "      <td>0.00</td>\n",
       "      <td>98.88</td>\n",
       "    </tr>\n",
       "    <tr>\n",
       "      <th>4</th>\n",
       "      <td>高钾</td>\n",
       "      <td>65.88</td>\n",
       "      <td>0.0</td>\n",
       "      <td>9.67</td>\n",
       "      <td>7.12</td>\n",
       "      <td>1.56</td>\n",
       "      <td>6.44</td>\n",
       "      <td>2.06</td>\n",
       "      <td>2.18</td>\n",
       "      <td>0.00</td>\n",
       "      <td>0.00</td>\n",
       "      <td>0.79</td>\n",
       "      <td>0.00</td>\n",
       "      <td>0.0</td>\n",
       "      <td>0.36</td>\n",
       "      <td>95.70</td>\n",
       "    </tr>\n",
       "  </tbody>\n",
       "</table>\n",
       "</div>"
      ],
      "text/plain": [
       "   类型  二氧化硅(SiO2)  氧化钠(Na2O)  氧化钾(K2O)  氧化钙(CaO)  氧化镁(MgO)  氧化铝(Al2O3)  \\\n",
       "0  高钾       69.33        0.0      9.99      6.32      0.87        3.93   \n",
       "1  铅钡       36.28        0.0      1.05      2.34      1.18        5.73   \n",
       "2  高钾       87.05        0.0      5.19      2.01      0.00        4.06   \n",
       "3  高钾       61.71        0.0     12.37      5.87      1.11        5.50   \n",
       "4  高钾       65.88        0.0      9.67      7.12      1.56        6.44   \n",
       "\n",
       "   氧化铁(Fe2O3)  氧化铜(CuO)  氧化铅(PbO)  氧化钡(BaO)  五氧化二磷(P2O5)  氧化锶(SrO)  氧化锡(SnO2)  \\\n",
       "0        1.74      3.87      0.00      0.00         1.17      0.00        0.0   \n",
       "1        1.86      0.26     47.43      0.00         3.57      0.19        0.0   \n",
       "2        0.00      0.78      0.25      0.00         0.66      0.00        0.0   \n",
       "3        2.16      5.09      1.41      2.86         0.70      0.10        0.0   \n",
       "4        2.06      2.18      0.00      0.00         0.79      0.00        0.0   \n",
       "\n",
       "   二氧化硫(SO2)     sum  \n",
       "0       0.39   97.22  \n",
       "1       0.00   99.89  \n",
       "2       0.00  100.00  \n",
       "3       0.00   98.88  \n",
       "4       0.36   95.70  "
      ]
     },
     "execution_count": 19,
     "metadata": {},
     "output_type": "execute_result"
    }
   ],
   "source": [
    "## 读取数据\n",
    "df = pd.read_csv(\"problem2PCA.csv\",encoding=\"gb2312\")\n",
    "df.head()\n"
   ]
  },
  {
   "cell_type": "code",
   "execution_count": 22,
   "metadata": {},
   "outputs": [],
   "source": [
    "## labelencoder\n",
    "from sklearn.preprocessing import LabelEncoder,OneHotEncoder\n",
    "df[\"类型\"] = LabelEncoder().fit_transform(np.array(df[\"类型\"])).reshape(-1,1)"
   ]
  },
  {
   "cell_type": "code",
   "execution_count": 25,
   "metadata": {},
   "outputs": [
    {
     "data": {
      "text/plain": [
       "array([[1.        , 0.67472736, 0.        , ..., 0.        , 0.10655738,\n",
       "        0.76013805],\n",
       "       [0.        , 0.28295401, 0.        , ..., 0.        , 0.        ,\n",
       "        0.99050906],\n",
       "       [1.        , 0.88477952, 0.        , ..., 0.        , 0.        ,\n",
       "        1.        ],\n",
       "       ...,\n",
       "       [0.        , 0.19843528, 0.        , ..., 0.        , 0.        ,\n",
       "        0.33045729],\n",
       "       [0.        , 0.15422001, 0.        , ..., 0.        , 0.        ,\n",
       "        0.35030198],\n",
       "       [0.        , 0.21313419, 0.        , ..., 0.        , 0.        ,\n",
       "        0.89301122]])"
      ]
     },
     "execution_count": 25,
     "metadata": {},
     "output_type": "execute_result"
    }
   ],
   "source": [
    "# 数据归一化\n",
    "from sklearn.preprocessing import MinMaxScaler\n",
    "mms = MinMaxScaler()\n",
    "df = mms.fit_transform(df)\n",
    "df\n"
   ]
  },
  {
   "cell_type": "code",
   "execution_count": 33,
   "metadata": {},
   "outputs": [
    {
     "data": {
      "text/html": [
       "<style>#sk-container-id-3 {color: black;background-color: white;}#sk-container-id-3 pre{padding: 0;}#sk-container-id-3 div.sk-toggleable {background-color: white;}#sk-container-id-3 label.sk-toggleable__label {cursor: pointer;display: block;width: 100%;margin-bottom: 0;padding: 0.3em;box-sizing: border-box;text-align: center;}#sk-container-id-3 label.sk-toggleable__label-arrow:before {content: \"▸\";float: left;margin-right: 0.25em;color: #696969;}#sk-container-id-3 label.sk-toggleable__label-arrow:hover:before {color: black;}#sk-container-id-3 div.sk-estimator:hover label.sk-toggleable__label-arrow:before {color: black;}#sk-container-id-3 div.sk-toggleable__content {max-height: 0;max-width: 0;overflow: hidden;text-align: left;background-color: #f0f8ff;}#sk-container-id-3 div.sk-toggleable__content pre {margin: 0.2em;color: black;border-radius: 0.25em;background-color: #f0f8ff;}#sk-container-id-3 input.sk-toggleable__control:checked~div.sk-toggleable__content {max-height: 200px;max-width: 100%;overflow: auto;}#sk-container-id-3 input.sk-toggleable__control:checked~label.sk-toggleable__label-arrow:before {content: \"▾\";}#sk-container-id-3 div.sk-estimator input.sk-toggleable__control:checked~label.sk-toggleable__label {background-color: #d4ebff;}#sk-container-id-3 div.sk-label input.sk-toggleable__control:checked~label.sk-toggleable__label {background-color: #d4ebff;}#sk-container-id-3 input.sk-hidden--visually {border: 0;clip: rect(1px 1px 1px 1px);clip: rect(1px, 1px, 1px, 1px);height: 1px;margin: -1px;overflow: hidden;padding: 0;position: absolute;width: 1px;}#sk-container-id-3 div.sk-estimator {font-family: monospace;background-color: #f0f8ff;border: 1px dotted black;border-radius: 0.25em;box-sizing: border-box;margin-bottom: 0.5em;}#sk-container-id-3 div.sk-estimator:hover {background-color: #d4ebff;}#sk-container-id-3 div.sk-parallel-item::after {content: \"\";width: 100%;border-bottom: 1px solid gray;flex-grow: 1;}#sk-container-id-3 div.sk-label:hover label.sk-toggleable__label {background-color: #d4ebff;}#sk-container-id-3 div.sk-serial::before {content: \"\";position: absolute;border-left: 1px solid gray;box-sizing: border-box;top: 0;bottom: 0;left: 50%;z-index: 0;}#sk-container-id-3 div.sk-serial {display: flex;flex-direction: column;align-items: center;background-color: white;padding-right: 0.2em;padding-left: 0.2em;position: relative;}#sk-container-id-3 div.sk-item {position: relative;z-index: 1;}#sk-container-id-3 div.sk-parallel {display: flex;align-items: stretch;justify-content: center;background-color: white;position: relative;}#sk-container-id-3 div.sk-item::before, #sk-container-id-3 div.sk-parallel-item::before {content: \"\";position: absolute;border-left: 1px solid gray;box-sizing: border-box;top: 0;bottom: 0;left: 50%;z-index: -1;}#sk-container-id-3 div.sk-parallel-item {display: flex;flex-direction: column;z-index: 1;position: relative;background-color: white;}#sk-container-id-3 div.sk-parallel-item:first-child::after {align-self: flex-end;width: 50%;}#sk-container-id-3 div.sk-parallel-item:last-child::after {align-self: flex-start;width: 50%;}#sk-container-id-3 div.sk-parallel-item:only-child::after {width: 0;}#sk-container-id-3 div.sk-dashed-wrapped {border: 1px dashed gray;margin: 0 0.4em 0.5em 0.4em;box-sizing: border-box;padding-bottom: 0.4em;background-color: white;}#sk-container-id-3 div.sk-label label {font-family: monospace;font-weight: bold;display: inline-block;line-height: 1.2em;}#sk-container-id-3 div.sk-label-container {text-align: center;}#sk-container-id-3 div.sk-container {/* jupyter's `normalize.less` sets `[hidden] { display: none; }` but bootstrap.min.css set `[hidden] { display: none !important; }` so we also need the `!important` here to be able to override the default hidden behavior on the sphinx rendered scikit-learn.org. See: https://github.com/scikit-learn/scikit-learn/issues/21755 */display: inline-block !important;position: relative;}#sk-container-id-3 div.sk-text-repr-fallback {display: none;}</style><div id=\"sk-container-id-3\" class=\"sk-top-container\"><div class=\"sk-text-repr-fallback\"><pre>PCA()</pre><b>In a Jupyter environment, please rerun this cell to show the HTML representation or trust the notebook. <br />On GitHub, the HTML representation is unable to render, please try loading this page with nbviewer.org.</b></div><div class=\"sk-container\" hidden><div class=\"sk-item\"><div class=\"sk-estimator sk-toggleable\"><input class=\"sk-toggleable__control sk-hidden--visually\" id=\"sk-estimator-id-3\" type=\"checkbox\" checked><label for=\"sk-estimator-id-3\" class=\"sk-toggleable__label sk-toggleable__label-arrow\">PCA</label><div class=\"sk-toggleable__content\"><pre>PCA()</pre></div></div></div></div></div>"
      ],
      "text/plain": [
       "PCA()"
      ]
     },
     "execution_count": 33,
     "metadata": {},
     "output_type": "execute_result"
    }
   ],
   "source": [
    "# PCA降维\n",
    "from sklearn.decomposition import PCA\n",
    "from sklearn import preprocessing\n",
    "pca = PCA()\n",
    "pca.fit(df)"
   ]
  },
  {
   "cell_type": "code",
   "execution_count": 34,
   "metadata": {},
   "outputs": [
    {
     "data": {
      "text/plain": [
       "array([[ 6.67745141e-01,  3.24439901e-01,  1.99798476e-02,\n",
       "         3.38839717e-01,  1.55479525e-01,  5.06047187e-02,\n",
       "         1.49835486e-01,  1.05445225e-01,  1.98893176e-02,\n",
       "        -3.88445025e-01, -1.89764277e-01, -1.42629538e-01,\n",
       "        -2.27761229e-01,  2.86313716e-02, -3.11190835e-02,\n",
       "         1.09715183e-01],\n",
       "       [ 1.16575931e-01, -3.91355360e-01, -1.32542728e-01,\n",
       "         2.52298373e-01,  5.09376252e-01,  3.39766011e-01,\n",
       "         1.81228142e-01,  2.53701363e-01,  5.94959473e-02,\n",
       "         1.96252242e-01, -4.80050054e-02,  4.11951348e-01,\n",
       "         1.78271616e-01,  4.39252703e-03, -3.41191185e-02,\n",
       "        -1.81352085e-01],\n",
       "       [ 4.79410366e-01, -2.42178725e-01, -7.99465198e-03,\n",
       "         1.94388731e-02, -8.29312991e-02, -3.41427011e-01,\n",
       "        -2.71406921e-01, -1.40655722e-01,  4.74281987e-01,\n",
       "         7.94369755e-02,  4.15411330e-01,  3.41733694e-02,\n",
       "         1.31389240e-01, -7.26137826e-02,  1.89020393e-01,\n",
       "        -1.75855047e-01],\n",
       "       [ 4.36807461e-01,  4.02926205e-02, -2.52041866e-01,\n",
       "        -2.57255926e-01, -3.67386751e-01,  2.80059189e-02,\n",
       "        -1.83089898e-01, -9.57959197e-02, -3.06602342e-01,\n",
       "         2.32164454e-01, -3.01449432e-01,  3.68913237e-01,\n",
       "         1.83822873e-01,  6.74916690e-02, -2.92104160e-01,\n",
       "         2.94792569e-02],\n",
       "       [ 1.77050916e-01, -1.40948030e-01,  5.80850387e-01,\n",
       "        -1.90379233e-02, -1.90088749e-01,  2.74464983e-01,\n",
       "         3.43921489e-01, -1.08414048e-01, -4.66332304e-03,\n",
       "         7.29458007e-02,  1.27416712e-01, -1.91304926e-01,\n",
       "         4.80951510e-01,  7.47430036e-02, -1.19247966e-01,\n",
       "         2.45438947e-01],\n",
       "       [ 3.93777005e-02, -1.51036833e-01,  3.12458209e-01,\n",
       "         2.79451826e-01,  3.37681434e-01, -3.81447038e-01,\n",
       "        -2.86680431e-01, -1.72446932e-01, -3.17380059e-01,\n",
       "         3.37162513e-01, -2.34879008e-01, -2.78439178e-01,\n",
       "        -2.29523196e-02, -1.02829010e-01, -2.55993519e-01,\n",
       "        -6.87104474e-02],\n",
       "       [ 6.01318981e-02, -6.65723832e-02,  3.59150829e-01,\n",
       "        -8.00979599e-02, -1.72684987e-01,  1.68213253e-01,\n",
       "         9.03606072e-02, -1.00607946e-01, -1.74873114e-01,\n",
       "        -1.26636915e-01,  1.63417376e-01,  1.33922794e-01,\n",
       "        -3.98412312e-01,  8.50343932e-02, -1.67612114e-01,\n",
       "        -7.03441088e-01],\n",
       "       [-1.45620913e-02, -8.17340701e-02, -3.70343306e-01,\n",
       "         3.64683562e-01, -1.33182362e-01,  2.35442768e-01,\n",
       "        -8.74413258e-02, -2.41273574e-01, -1.41376338e-01,\n",
       "         1.07167181e-01,  1.16382505e-01, -3.63865259e-01,\n",
       "         7.43786014e-02,  6.07593539e-01,  1.16851986e-01,\n",
       "        -1.34752000e-01],\n",
       "       [ 1.35202536e-01, -1.86467193e-01, -2.56488660e-01,\n",
       "        -2.08063488e-01, -9.83622779e-02, -1.87968648e-01,\n",
       "         3.07163904e-01,  5.69805093e-01, -1.25036411e-01,\n",
       "         2.03559781e-01,  2.20694231e-01, -4.28579104e-01,\n",
       "        -1.15158637e-01, -4.42995305e-02, -2.57017744e-01,\n",
       "        -5.56757747e-02],\n",
       "       [ 2.06449858e-02, -1.14516316e-01, -1.29064694e-01,\n",
       "         4.75829274e-03,  5.78262971e-02, -4.51826589e-01,\n",
       "         6.66342701e-01, -4.29003492e-01, -1.41523369e-01,\n",
       "         5.23424052e-02,  1.17389132e-02,  2.22722039e-01,\n",
       "        -1.35505807e-01,  1.17426197e-01,  1.40425593e-01,\n",
       "         9.92478714e-02],\n",
       "       [-1.00731055e-01,  4.98424792e-02,  2.31624304e-01,\n",
       "         2.67174351e-01, -2.04130401e-01, -4.21447057e-01,\n",
       "        -5.41762233e-02,  4.96197189e-01, -1.97660183e-01,\n",
       "        -1.77488537e-01, -2.09208026e-02,  2.79297669e-01,\n",
       "         2.64970287e-01,  3.63078389e-01,  1.92280080e-01,\n",
       "        -7.66816660e-02],\n",
       "       [ 3.52517510e-02,  1.94758532e-01, -1.84740422e-01,\n",
       "        -6.69501735e-02,  8.02293855e-02, -2.42532076e-02,\n",
       "         1.31774957e-01, -8.90578834e-02, -2.75236952e-01,\n",
       "        -1.82481344e-01, -6.95674949e-02, -2.11510220e-01,\n",
       "         5.24473811e-01, -4.01305703e-01,  2.80212428e-01,\n",
       "        -4.65429994e-01],\n",
       "       [ 1.23971687e-01, -1.77130779e-01,  1.29773219e-01,\n",
       "         1.07670422e-01, -2.94240097e-01,  1.76146334e-01,\n",
       "         1.16975193e-02,  1.29350502e-01, -1.51076816e-01,\n",
       "         3.51816559e-01, -2.22924220e-01, -4.87847989e-02,\n",
       "        -2.95284773e-01, -2.45249965e-01,  6.62733134e-01,\n",
       "         7.15432736e-02],\n",
       "       [-1.75009356e-01, -6.01650805e-02, -1.57599109e-01,\n",
       "         6.24522000e-01, -4.49763426e-01, -1.95971198e-03,\n",
       "         1.01308330e-01, -5.21898333e-02,  8.38560330e-02,\n",
       "        -4.68590745e-02,  6.96213264e-02,  9.92082125e-02,\n",
       "         1.23344437e-02, -4.48812658e-01, -3.31671902e-01,\n",
       "         1.00174079e-02],\n",
       "       [-8.41027057e-02,  1.95288813e-02,  3.06758769e-02,\n",
       "        -3.72113824e-02, -1.46434814e-01, -1.04092655e-01,\n",
       "         1.96270388e-01,  2.87514581e-02,  5.80984277e-01,\n",
       "         1.41145160e-01, -6.35842777e-01, -1.60756126e-01,\n",
       "         6.96056753e-02,  1.61783124e-01, -6.94507926e-02,\n",
       "        -3.08459263e-01],\n",
       "       [ 8.83226810e-17,  7.09816317e-01,  6.66399387e-02,\n",
       "         1.22173221e-01,  7.32029630e-02,  2.29705849e-02,\n",
       "         1.16872317e-01,  5.08213674e-02,  8.89373930e-02,\n",
       "         5.90756326e-01,  2.71355811e-01,  1.18891709e-01,\n",
       "         9.42382972e-03,  1.98573555e-02, -7.29005897e-17,\n",
       "        -9.75198093e-02]])"
      ]
     },
     "execution_count": 34,
     "metadata": {},
     "output_type": "execute_result"
    }
   ],
   "source": [
    "pca.components_ # 模型的各个特征向量"
   ]
  },
  {
   "cell_type": "code",
   "execution_count": 35,
   "metadata": {},
   "outputs": [
    {
     "data": {
      "text/plain": [
       "array([3.84033384e-01, 1.56577202e-01, 1.20999565e-01, 6.24691956e-02,\n",
       "       5.64111088e-02, 5.29760073e-02, 4.31386269e-02, 2.93195767e-02,\n",
       "       2.72336689e-02, 2.10011162e-02, 1.57163555e-02, 1.44629846e-02,\n",
       "       1.28859136e-02, 1.04951153e-02, 5.47223731e-03, 4.39894745e-33])"
      ]
     },
     "execution_count": 35,
     "metadata": {},
     "output_type": "execute_result"
    }
   ],
   "source": [
    "pca.explained_variance_  # 贡献方差，即特征根"
   ]
  },
  {
   "cell_type": "code",
   "execution_count": 36,
   "metadata": {},
   "outputs": [
    {
     "data": {
      "text/plain": [
       "array([3.79033157e-01, 1.54538521e-01, 1.19424115e-01, 6.16558284e-02,\n",
       "       5.56766197e-02, 5.22862442e-02, 4.25769493e-02, 2.89378273e-02,\n",
       "       2.68790786e-02, 2.07276756e-02, 1.55117240e-02, 1.42746723e-02,\n",
       "       1.27181352e-02, 1.03584658e-02, 5.40098718e-03, 4.34167187e-33])"
      ]
     },
     "execution_count": 36,
     "metadata": {},
     "output_type": "execute_result"
    }
   ],
   "source": [
    "pca.explained_variance_ratio_ #各个成分各自的方差百分比（贡献率）"
   ]
  },
  {
   "cell_type": "code",
   "execution_count": 38,
   "metadata": {},
   "outputs": [
    {
     "data": {
      "text/plain": [
       "array([[ 1.04561394,  0.29754061,  0.17105235],\n",
       "       [-0.30520918,  0.18735651, -0.40512415],\n",
       "       [ 0.90720708, -0.3715087 ,  0.09970363],\n",
       "       [ 1.07362758,  0.40232053,  0.18837262],\n",
       "       [ 1.07114975,  0.49036171, -0.02512586],\n",
       "       [ 1.10431522,  0.62321863, -0.01644447],\n",
       "       [ 0.92974407,  0.22257929, -0.13119721],\n",
       "       [ 1.04567121,  0.70027818, -0.20884211],\n",
       "       [ 0.77496119, -0.54622557,  0.23691043],\n",
       "       [-0.65361043, -0.08374541,  0.95578454],\n",
       "       [ 0.78548525, -0.59390709,  0.16700962],\n",
       "       [ 0.78861589, -0.64429728,  0.14438682],\n",
       "       [-0.48131585,  0.28883996,  0.22806281],\n",
       "       [ 0.79556622, -0.57893976,  0.17371535],\n",
       "       [ 1.15541097,  0.44673394,  0.22192039],\n",
       "       [ 1.16196432,  0.34707832, -0.0765468 ],\n",
       "       [ 1.18263112,  0.34670322,  0.03702275],\n",
       "       [ 0.93948625, -0.12935735, -0.08156344],\n",
       "       [ 0.21589921,  0.39563916,  0.45404829],\n",
       "       [ 0.27478371,  0.08754709,  0.87442442],\n",
       "       [ 0.18419588, -0.04367785, -0.47009139],\n",
       "       [ 0.16717021, -0.53855299, -0.48648428],\n",
       "       [ 0.38408839, -0.34482597,  0.51850864],\n",
       "       [ 0.02984217, -0.09627184,  1.1515574 ],\n",
       "       [-0.31422829, -0.34713084, -0.0614524 ],\n",
       "       [-0.6734634 , -0.09565467,  0.95780095],\n",
       "       [ 0.11238925, -0.5983801 , -0.38348943],\n",
       "       [-0.08383118, -0.28517376, -0.39382629],\n",
       "       [ 0.74586775,  0.1135334 , -0.18637231],\n",
       "       [-0.30552875,  0.20927363, -0.23479038],\n",
       "       [-0.3613626 ,  0.16518816, -0.18266501],\n",
       "       [-0.08040602, -0.07416924, -0.41311646],\n",
       "       [-0.11767612, -0.51492135, -0.23787262],\n",
       "       [-0.05145162, -0.47757387, -0.38277437],\n",
       "       [-0.49170827, -0.23704788,  0.08593483],\n",
       "       [-0.20603416, -0.501376  , -0.13625942],\n",
       "       [-0.4596083 , -0.35356876,  0.04599595],\n",
       "       [-0.30204262, -0.39161537,  0.2634544 ],\n",
       "       [-0.54531696, -0.23075406,  0.05108591],\n",
       "       [-0.68937148, -0.10456728,  0.12386819],\n",
       "       [-0.78121937,  0.04491022,  0.11720661],\n",
       "       [-0.5334921 ,  0.80198246, -0.27022656],\n",
       "       [-0.2705117 , -0.32292043, -0.08984584],\n",
       "       [-0.17720981, -0.39008618, -0.16661227],\n",
       "       [-0.63863407,  0.42352215,  0.22378836],\n",
       "       [-0.5336194 ,  0.75543625, -0.11918541],\n",
       "       [-0.02142213, -0.28787602, -0.39283743],\n",
       "       [-0.1764046 , -0.39584284, -0.21663628],\n",
       "       [-0.28866063, -0.19521017, -0.27133906],\n",
       "       [-0.4063904 , -0.27268122, -0.05346418],\n",
       "       [-0.014657  ,  0.07380157, -0.62259308],\n",
       "       [-0.43575428,  0.69105762, -0.25648234],\n",
       "       [-0.19329105,  0.05361436, -0.38544615],\n",
       "       [-0.74490507,  0.38261382,  0.26513573],\n",
       "       [-0.35016403,  0.07545753, -0.148038  ],\n",
       "       [-0.50372141,  0.47166325, -0.11514389],\n",
       "       [-0.50402949,  0.59544683, -0.18666426],\n",
       "       [-0.63524969,  0.16967452,  0.08289174],\n",
       "       [-0.13300055, -0.34889252, -0.3155234 ],\n",
       "       [-0.64250006,  0.35106912, -0.10108507],\n",
       "       [-0.88428765,  0.5463439 ,  0.00416321],\n",
       "       [-0.32351339, -0.40518145, -0.02366559],\n",
       "       [-0.5526313 , -0.11743941,  0.19850889],\n",
       "       [-0.56530336, -0.15753553,  0.23697064],\n",
       "       [-0.44294885,  0.31612282, -0.03045825]])"
      ]
     },
     "execution_count": 38,
     "metadata": {},
     "output_type": "execute_result"
    }
   ],
   "source": [
    "## 假设我们就取3个主成分\n",
    "pca = PCA(3) #确定3个主成分\n",
    "pca.fit(df)\n",
    "low_d = pca.transform(df)# low_d降维后的结果\n",
    "low_d\n",
    "# https://zhuanlan.zhihu.com/p/452381311"
   ]
  }
 ],
 "metadata": {
  "kernelspec": {
   "display_name": "Python 3.10.6 64-bit",
   "language": "python",
   "name": "python3"
  },
  "language_info": {
   "codemirror_mode": {
    "name": "ipython",
    "version": 3
   },
   "file_extension": ".py",
   "mimetype": "text/x-python",
   "name": "python",
   "nbconvert_exporter": "python",
   "pygments_lexer": "ipython3",
   "version": "3.10.6"
  },
  "orig_nbformat": 4,
  "vscode": {
   "interpreter": {
    "hash": "e12f081f3b69c47b407a411e35ba4814a2bf694e6a041dab3adb1673ea66113c"
   }
  }
 },
 "nbformat": 4,
 "nbformat_minor": 2
}
